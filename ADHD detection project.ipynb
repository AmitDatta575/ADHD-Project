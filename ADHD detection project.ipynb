{
  "nbformat": 4,
  "nbformat_minor": 0,
  "metadata": {
    "colab": {
      "provenance": [],
      "authorship_tag": "ABX9TyPNAU1z9FJE9nSjjLj5at04",
      "include_colab_link": true
    },
    "kernelspec": {
      "name": "python3",
      "display_name": "Python 3"
    },
    "language_info": {
      "name": "python"
    }
  },
  "cells": [
    {
      "cell_type": "markdown",
      "metadata": {
        "id": "view-in-github",
        "colab_type": "text"
      },
      "source": [
        "<a href=\"https://colab.research.google.com/github/AmitDatta575/ADHD-Project/blob/main/ADHD%20detection%20project.ipynb\" target=\"_parent\"><img src=\"https://colab.research.google.com/assets/colab-badge.svg\" alt=\"Open In Colab\"/></a>"
      ]
    },
    {
      "cell_type": "code",
      "source": [
        "\n",
        "import pandas as pd\n",
        "import numpy as np\n",
        "\n",
        "# Creating a synthetic dataset\n",
        "data = {\n",
        "    'age': np.random.randint(5, 15, 100),\n",
        "    'inattention_score': np.random.randint(0, 20, 100),\n",
        "    'hyperactivity_score': np.random.randint(0, 20, 100),\n",
        "    'impulsivity_score': np.random.randint(0, 20, 100),\n",
        "    'diagnosis': np.random.choice(['ADHD', 'Control'], 100)  # Randomly assigning labels\n",
        "}\n",
        "\n",
        "df = pd.DataFrame(data)\n",
        "\n",
        "# Encode the target variable\n",
        "df['diagnosis'] = df['diagnosis'].map({'ADHD': 1, 'Control': 0})\n",
        "from sklearn.model_selection import train_test_split\n",
        "\n",
        "# Features and Labels\n",
        "X = df[['age', 'inattention_score', 'hyperactivity_score', 'impulsivity_score']]\n",
        "y = df['diagnosis']\n",
        "\n",
        "# Split the dataset into training and testing sets\n",
        "X_train, X_test, y_train, y_test = train_test_split(X, y, test_size=0.2, random_state=42)\n",
        "from sklearn.ensemble import RandomForestClassifier\n",
        "\n",
        "# Initialize and train the model\n",
        "model = RandomForestClassifier(random_state=42)\n",
        "model.fit(X_train, y_train)\n",
        "from sklearn.metrics import classification_report, confusion_matrix\n",
        "\n",
        "# Predictions\n",
        "y_pred = model.predict(X_test)\n",
        "\n",
        "# Evaluation\n",
        "print(\"Confusion Matrix:\")\n",
        "print(confusion_matrix(y_test, y_pred))\n",
        "\n",
        "print(\"\\nClassification Report:\")\n",
        "print(classification_report(y_test, y_pred))\n"
      ],
      "metadata": {
        "colab": {
          "base_uri": "https://localhost:8080/"
        },
        "id": "7VN3rTrao1gF",
        "outputId": "68bff761-2c16-4383-f4a3-4ed268c875b3"
      },
      "execution_count": 1,
      "outputs": [
        {
          "output_type": "stream",
          "name": "stdout",
          "text": [
            "Confusion Matrix:\n",
            "[[4 4]\n",
            " [4 8]]\n",
            "\n",
            "Classification Report:\n",
            "              precision    recall  f1-score   support\n",
            "\n",
            "           0       0.50      0.50      0.50         8\n",
            "           1       0.67      0.67      0.67        12\n",
            "\n",
            "    accuracy                           0.60        20\n",
            "   macro avg       0.58      0.58      0.58        20\n",
            "weighted avg       0.60      0.60      0.60        20\n",
            "\n"
          ]
        }
      ]
    }
  ]
}